{
  "nbformat": 4,
  "nbformat_minor": 0,
  "metadata": {
    "colab": {
      "name": "ajuste.ipynb",
      "provenance": []
    },
    "kernelspec": {
      "name": "python3",
      "display_name": "Python 3"
    },
    "accelerator": "GPU"
  },
  "cells": [
    {
      "cell_type": "code",
      "metadata": {
        "id": "mo19wEtrhRGv",
        "colab_type": "code",
        "colab": {
          "base_uri": "https://localhost:8080/",
          "height": 420
        },
        "outputId": "bbacd8b5-6a38-42aa-be33-c0a802d9c5c7"
      },
      "source": [
        "import numpy as np #importa un modulo \n",
        "import matplotlib.pyplot as plt #libreria para graficos\n",
        "from sklearn.linear_model import LinearRegression #libreria de regresion linear\n",
        "from sklearn.preprocessing import PolynomialFeatures #libreria polinomial\n",
        "from sklearn.linear_model import LinearRegression \n",
        "\n",
        "regresion_lineal = LinearRegression(x) # creamos una instancia de LinearRegression)  \n",
        "\n",
        "poly_reg = PolynomialFeatures(degree=5)#grado del polinomio\n",
        "\n",
        "x=np.dot(x, np.array(x).reshape(-1,1))\n",
        "\n",
        "\n",
        "\n",
        "\n",
        "def polyfit2(x,y,n): #devuelve los coeficientes para un polinomio\n",
        "\n",
        "  def inv(A):\n",
        "      return np.linalg.inv(A) #matriz inversa de la matriz A\n",
        "  def trans(A):\n",
        "      return A.getT() #transpuesta de la matriz A\n",
        "  def prod(A,B):\n",
        "      return np.dot(A,B) #producto punto entre los vectores A Y B\n",
        "\n",
        "  xlen = len(x) #calcula la longitud del vector x\n",
        "  ylen = len(y)\n",
        "  one = np.ones((xlen,n+1),dtype=int) #matriz de unos de dimensiones(xlen,n+1)\n",
        "  c1=one[:,[1]] #seleccionamos solo la columna 1 de la matriz one\n",
        "  xT=np.matrix(x) #convierte los datos a una matriz numpy\n",
        "  yT=np.matrix(y)\n",
        "  c2=xT.getT()\n",
        "  c3=np.power(c2,2)#eleva al cuadrado los elementos de la matriz c2\n",
        "  c4=np.power(c2,3)\n",
        "  A=np.hstack([c1,c2,c3,c4]) #agrupa las columnas c1, c2, c3 en la matriz A\n",
        "  ajuste = prod(prod(inv(prod(trans(A),A)),trans(A)),trans(yT)) #la funcion prod realiza los productos de las matrices que recibe como argumento\n",
        "  print(ajuste)\n",
        "\n",
        "x=[1.0,-2.0,3.0,4.0] \n",
        "y=[4.0,5.0,-1.0,1.0]\n",
        "\n",
        "\n",
        "print('w = ' + str(regresion_lineal) + ', b = ' + str(regresion_lineal))\n",
        "plt.scatter(x,y,label='data', color='orange')\n",
        "plt.title('Datos');\n",
        "\n",
        "polyfit2(x,y,2) #el resultado es el polinomio y=-0.0378x^2 - 0.8106x + 3.75 (interpreten los datos del vector segun el grado de coeficientes )"
      ],
      "execution_count": 28,
      "outputs": [
        {
          "output_type": "stream",
          "text": [
            "w = LinearRegression(copy_X=True, fit_intercept=[1.0, -2.0, 3.0, 4.0], n_jobs=None,\n",
            "                 normalize=False), b = LinearRegression(copy_X=True, fit_intercept=[1.0, -2.0, 3.0, 4.0], n_jobs=None,\n",
            "                 normalize=False)\n",
            "[[ 7.13333333]\n",
            " [-2.37777778]\n",
            " [-1.07777778]\n",
            " [ 0.32222222]]\n"
          ],
          "name": "stdout"
        },
        {
          "output_type": "display_data",
          "data": {
            "image/png": "[encoded data removed]",
            "text/plain": [
              "<Figure size 432x288 with 1 Axes>"
            ]
          },
          "metadata": {
            "tags": [],
            "needs_background": "light"
          }
        }
      ]
    }
  ]
}